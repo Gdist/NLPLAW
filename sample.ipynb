{
 "cells": [
  {
   "cell_type": "code",
   "execution_count": null,
   "id": "85ad0521",
   "metadata": {},
   "outputs": [],
   "source": [
    "import os\n",
    "from neo4j import *\n",
    "from neo4j_db import *\n",
    "from utils import *"
   ]
  },
  {
   "cell_type": "code",
   "execution_count": null,
   "id": "d309da64",
   "metadata": {},
   "outputs": [],
   "source": [
    "if not os.path.isdir(\"./result\"):\n",
    "\tos.mkdir(\"./result\")"
   ]
  },
  {
   "attachments": {},
   "cell_type": "markdown",
   "id": "04f28273",
   "metadata": {},
   "source": [
    "## Import from previos result in \"./result\" folder"
   ]
  },
  {
   "cell_type": "code",
   "execution_count": null,
   "id": "1f545026",
   "metadata": {},
   "outputs": [],
   "source": [
    "results = [result for result in os.listdir(\"./result\") if result.endswith('.json')]\n",
    "for result in results:\n",
    "    with open(f\"./result/{result}\", 'r', encoding='utf-8') as f:\n",
    "        data = json.load(f)\n",
    "    mytitle = commit(data, skip_existed=True)\n",
    "    print(data[\"title\"])"
   ]
  },
  {
   "attachments": {},
   "cell_type": "markdown",
   "id": "7819b15e",
   "metadata": {},
   "source": [
    "## Extract new result from \"./data/sample/sample.json\""
   ]
  },
  {
   "cell_type": "code",
   "execution_count": null,
   "id": "e55084ff",
   "metadata": {},
   "outputs": [],
   "source": [
    "with open('./data/sample/sample.json', 'r', encoding='utf-8') as f:\n",
    "    sample = json.load(f)\n",
    "print(sample[0])"
   ]
  },
  {
   "cell_type": "code",
   "execution_count": null,
   "id": "11ac3d5f",
   "metadata": {},
   "outputs": [],
   "source": [
    "for judge in sample:\n",
    "    title = judge['court'] + judge['sys'] + judge['no']\n",
    "    issues = [issue['lawName']+issue['issueRef'] for issue in judge['relatedIssues'] ]\n",
    "    node = getJudgement(title)\n",
    "    if node: continue\n",
    "    data = extract(title, judge[\"judgement\"], issues)\n",
    "    mytitle = commit(data, skip_existed=True)\n",
    "    print(mytitle)\n",
    "    with open(f\"./result/{mytitle}.json\", \"w\", encoding='utf-8') as f:\n",
    "        json.dump(data, f, indent=4, ensure_ascii=False)\n",
    "    "
   ]
  },
  {
   "attachments": {},
   "cell_type": "markdown",
   "id": "1143ee5e",
   "metadata": {},
   "source": [
    "## Extract new result from \"./data/{judgement}.json\""
   ]
  },
  {
   "cell_type": "code",
   "execution_count": null,
   "id": "5b0ada25",
   "metadata": {},
   "outputs": [],
   "source": [
    "files = [file for file in os.listdir(\"./data\") if file.endswith('.json')]\n",
    "for file in files:\n",
    "    with open(f\"./data/{file}\", 'r', encoding='utf-8') as f:\n",
    "        judge = json.load(f)\n",
    "    print(judge[\"裁判字號\"])\n",
    "    node = getJudgement(judge[\"裁判字號\"])\n",
    "    if node: continue\n",
    "    data = extract(judge[\"裁判字號\"], judge[\"主文\"], judge['相關法條'])\n",
    "    mytitle = commit(data, skip_existed=True)\n",
    "    print(mytitle)\n",
    "    with open(f\"./result/{mytitle}.json\", \"w\", encoding='utf-8') as f:\n",
    "        json.dump(data, f, indent=4, ensure_ascii=False)"
   ]
  }
 ],
 "metadata": {
  "kernelspec": {
   "display_name": "Python 3 (ipykernel)",
   "language": "python",
   "name": "python3"
  },
  "language_info": {
   "codemirror_mode": {
    "name": "ipython",
    "version": 3
   },
   "file_extension": ".py",
   "mimetype": "text/x-python",
   "name": "python",
   "nbconvert_exporter": "python",
   "pygments_lexer": "ipython3",
   "version": "3.9.12"
  }
 },
 "nbformat": 4,
 "nbformat_minor": 5
}
